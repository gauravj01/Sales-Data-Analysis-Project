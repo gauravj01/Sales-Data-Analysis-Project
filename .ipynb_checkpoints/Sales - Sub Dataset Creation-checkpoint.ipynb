{
 "cells": [
  {
   "cell_type": "code",
   "execution_count": 1,
   "id": "de428b31",
   "metadata": {},
   "outputs": [],
   "source": [
    "import pandas as pd\n",
    "\n",
    "df = pd.read_csv('data.csv')"
   ]
  },
  {
   "cell_type": "markdown",
   "id": "3a9ec9f2",
   "metadata": {},
   "source": [
    "### 1. Based on state"
   ]
  },
  {
   "cell_type": "code",
   "execution_count": 2,
   "id": "498ec21c",
   "metadata": {},
   "outputs": [],
   "source": [
    "for i in df['states'].unique():\n",
    "    path = 'State/'+i+'.csv'\n",
    "    df_pr = df[df['states'] == i]\n",
    "    df_pr.to_csv(path, index = False)"
   ]
  },
  {
   "cell_type": "code",
   "execution_count": 3,
   "id": "9ce02e06",
   "metadata": {},
   "outputs": [],
   "source": [
    "df_ = pd.read_csv('State/WA.csv')"
   ]
  },
  {
   "cell_type": "markdown",
   "id": "56f45731",
   "metadata": {},
   "source": [
    "### 2. City (All)"
   ]
  },
  {
   "cell_type": "code",
   "execution_count": 4,
   "id": "0cbb28aa",
   "metadata": {},
   "outputs": [],
   "source": [
    "# mkdir City\n",
    "\n",
    "for i in df['city'].unique():\n",
    "    path = 'City/'+i+'.csv'\n",
    "    df_pr = df[df['city'] == i]\n",
    "    df_pr.to_csv(path, index = False)"
   ]
  },
  {
   "cell_type": "markdown",
   "id": "fee6131f",
   "metadata": {},
   "source": [
    "### 3. City (Total orders, Total quantity, total amount)"
   ]
  },
  {
   "cell_type": "code",
   "execution_count": 5,
   "id": "7c697e8a",
   "metadata": {},
   "outputs": [],
   "source": [
    "data = []\n",
    "\n",
    "for city in df['city'].unique():\n",
    "    \n",
    "    to = 0\n",
    "    tq = 0\n",
    "    ta = 0\n",
    "    \n",
    "    for i in df.values:\n",
    "        if city == i[12]:\n",
    "            to += 1\n",
    "            tq += i[2]\n",
    "            ta += i[4]\n",
    "    \n",
    "    data.append([city, to, tq, int(ta)])"
   ]
  },
  {
   "cell_type": "code",
   "execution_count": 6,
   "id": "7eb70263",
   "metadata": {},
   "outputs": [],
   "source": [
    "data = pd.DataFrame(data, columns=['City', 'Orders', 'Quantity', 'Amount'])"
   ]
  },
  {
   "cell_type": "code",
   "execution_count": 7,
   "id": "058f8b9e",
   "metadata": {},
   "outputs": [],
   "source": [
    "data.to_csv('City.csv', index = False)"
   ]
  },
  {
   "cell_type": "markdown",
   "id": "2bbf1c33",
   "metadata": {},
   "source": [
    "### 4. Product"
   ]
  },
  {
   "cell_type": "code",
   "execution_count": 8,
   "id": "1a41f14f",
   "metadata": {},
   "outputs": [
    {
     "data": {
      "text/plain": [
       "array(['Wired Headphones', 'Bose SoundSport Headphones', 'iPhone',\n",
       "       'AA Batteries (4-pack)', '34in Ultrawide Monitor', '20in Monitor',\n",
       "       'Macbook Pro Laptop', 'LG Washing Machine', '27in FHD Monitor',\n",
       "       'Lightning Charging Cable', 'Apple Airpods Headphones',\n",
       "       'AAA Batteries (4-pack)', 'USB-C Charging Cable',\n",
       "       '27in 4K Gaming Monitor', 'ThinkPad Laptop', 'Flatscreen TV',\n",
       "       'Google Phone', 'Vareebadd Phone', 'LG Dryer'], dtype=object)"
      ]
     },
     "execution_count": 8,
     "metadata": {},
     "output_type": "execute_result"
    }
   ],
   "source": [
    "df['product'].unique()"
   ]
  },
  {
   "cell_type": "code",
   "execution_count": 9,
   "id": "753ca33d",
   "metadata": {},
   "outputs": [],
   "source": [
    "data = []\n",
    "\n",
    "for i in df['product'].unique():\n",
    "    df_pr = df[df['product'] == i]\n",
    "    data.append([i, df_pr['price'].mode().values[0], len(df_pr), df_pr['quantity'].sum(), df_pr['quantity'].max(), int(df_pr['total'].sum())])\n",
    "    \n"
   ]
  },
  {
   "cell_type": "code",
   "execution_count": 10,
   "id": "5a980319",
   "metadata": {},
   "outputs": [],
   "source": [
    "data = pd.DataFrame(data, columns=['Name', 'Price', 'Orders', 'Quantity', 'Max_Quantity_per_user', 'total amount'])"
   ]
  },
  {
   "cell_type": "code",
   "execution_count": 11,
   "id": "0739db79",
   "metadata": {},
   "outputs": [],
   "source": [
    "data.to_csv('product.csv', index = False)"
   ]
  },
  {
   "cell_type": "markdown",
   "id": "1bb06807",
   "metadata": {},
   "source": [
    "### 5. Timezone"
   ]
  },
  {
   "cell_type": "code",
   "execution_count": 12,
   "id": "2b6d9e0f",
   "metadata": {},
   "outputs": [],
   "source": [
    "am = df[df['timezone'] == 'AM']\n",
    "pm = df[df['timezone'] == 'PM']"
   ]
  },
  {
   "cell_type": "code",
   "execution_count": 13,
   "id": "6bcc951b",
   "metadata": {},
   "outputs": [],
   "source": [
    "am.to_csv('Timezone/AM.csv', index = False)\n",
    "pm.to_csv('Timezone/PM.csv', index = False)"
   ]
  },
  {
   "cell_type": "code",
   "execution_count": null,
   "id": "ea7508a4",
   "metadata": {},
   "outputs": [],
   "source": []
  }
 ],
 "metadata": {
  "kernelspec": {
   "display_name": "Python 3 (ipykernel)",
   "language": "python",
   "name": "python3"
  },
  "language_info": {
   "codemirror_mode": {
    "name": "ipython",
    "version": 3
   },
   "file_extension": ".py",
   "mimetype": "text/x-python",
   "name": "python",
   "nbconvert_exporter": "python",
   "pygments_lexer": "ipython3",
   "version": "3.10.7"
  }
 },
 "nbformat": 4,
 "nbformat_minor": 5
}
