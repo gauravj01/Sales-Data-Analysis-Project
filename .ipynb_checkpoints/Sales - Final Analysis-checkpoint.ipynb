{
 "cells": [
  {
   "cell_type": "code",
   "execution_count": 17,
   "id": "ac9a8b9a",
   "metadata": {},
   "outputs": [],
   "source": [
    "import pandas as pd\n",
    "import numpy as np\n",
    "import matplotlib.pyplot as plt"
   ]
  },
  {
   "cell_type": "markdown",
   "id": "cd618792",
   "metadata": {},
   "source": [
    "## 1. City"
   ]
  },
  {
   "cell_type": "code",
   "execution_count": 18,
   "id": "3b8f5f08",
   "metadata": {},
   "outputs": [
    {
     "data": {
      "text/html": [
       "<div>\n",
       "<style scoped>\n",
       "    .dataframe tbody tr th:only-of-type {\n",
       "        vertical-align: middle;\n",
       "    }\n",
       "\n",
       "    .dataframe tbody tr th {\n",
       "        vertical-align: top;\n",
       "    }\n",
       "\n",
       "    .dataframe thead th {\n",
       "        text-align: right;\n",
       "    }\n",
       "</style>\n",
       "<table border=\"1\" class=\"dataframe\">\n",
       "  <thead>\n",
       "    <tr style=\"text-align: right;\">\n",
       "      <th></th>\n",
       "      <th>City</th>\n",
       "      <th>Orders</th>\n",
       "      <th>Quantity</th>\n",
       "      <th>Amount</th>\n",
       "    </tr>\n",
       "  </thead>\n",
       "  <tbody>\n",
       "    <tr>\n",
       "      <th>0</th>\n",
       "      <td>Seattle</td>\n",
       "      <td>14732</td>\n",
       "      <td>16553</td>\n",
       "      <td>2747755</td>\n",
       "    </tr>\n",
       "    <tr>\n",
       "      <th>1</th>\n",
       "      <td>Dallas</td>\n",
       "      <td>14820</td>\n",
       "      <td>16730</td>\n",
       "      <td>2767975</td>\n",
       "    </tr>\n",
       "    <tr>\n",
       "      <th>2</th>\n",
       "      <td>Portland</td>\n",
       "      <td>12465</td>\n",
       "      <td>14053</td>\n",
       "      <td>2320490</td>\n",
       "    </tr>\n",
       "    <tr>\n",
       "      <th>3</th>\n",
       "      <td>Angeles</td>\n",
       "      <td>29605</td>\n",
       "      <td>33289</td>\n",
       "      <td>5452570</td>\n",
       "    </tr>\n",
       "    <tr>\n",
       "      <th>4</th>\n",
       "      <td>City</td>\n",
       "      <td>24876</td>\n",
       "      <td>27932</td>\n",
       "      <td>4664317</td>\n",
       "    </tr>\n",
       "    <tr>\n",
       "      <th>5</th>\n",
       "      <td>Francisco</td>\n",
       "      <td>44732</td>\n",
       "      <td>50239</td>\n",
       "      <td>8262203</td>\n",
       "    </tr>\n",
       "    <tr>\n",
       "      <th>6</th>\n",
       "      <td>Boston</td>\n",
       "      <td>19934</td>\n",
       "      <td>22528</td>\n",
       "      <td>3661642</td>\n",
       "    </tr>\n",
       "    <tr>\n",
       "      <th>7</th>\n",
       "      <td>Atlanta</td>\n",
       "      <td>14881</td>\n",
       "      <td>16602</td>\n",
       "      <td>2795498</td>\n",
       "    </tr>\n",
       "    <tr>\n",
       "      <th>8</th>\n",
       "      <td>Austin</td>\n",
       "      <td>9905</td>\n",
       "      <td>11153</td>\n",
       "      <td>1819581</td>\n",
       "    </tr>\n",
       "  </tbody>\n",
       "</table>\n",
       "</div>"
      ],
      "text/plain": [
       "        City  Orders  Quantity   Amount\n",
       "0    Seattle   14732     16553  2747755\n",
       "1     Dallas   14820     16730  2767975\n",
       "2   Portland   12465     14053  2320490\n",
       "3    Angeles   29605     33289  5452570\n",
       "4       City   24876     27932  4664317\n",
       "5  Francisco   44732     50239  8262203\n",
       "6     Boston   19934     22528  3661642\n",
       "7    Atlanta   14881     16602  2795498\n",
       "8     Austin    9905     11153  1819581"
      ]
     },
     "execution_count": 18,
     "metadata": {},
     "output_type": "execute_result"
    }
   ],
   "source": [
    "df = pd.read_csv('city.csv')\n",
    "df"
   ]
  },
  {
   "cell_type": "markdown",
   "id": "907b17b4",
   "metadata": {},
   "source": [
    "#### 1.a) Average price per product in each city"
   ]
  },
  {
   "cell_type": "code",
   "execution_count": 21,
   "id": "71cdb451",
   "metadata": {},
   "outputs": [
    {
     "data": {
      "text/html": [
       "<div>\n",
       "<style scoped>\n",
       "    .dataframe tbody tr th:only-of-type {\n",
       "        vertical-align: middle;\n",
       "    }\n",
       "\n",
       "    .dataframe tbody tr th {\n",
       "        vertical-align: top;\n",
       "    }\n",
       "\n",
       "    .dataframe thead th {\n",
       "        text-align: right;\n",
       "    }\n",
       "</style>\n",
       "<table border=\"1\" class=\"dataframe\">\n",
       "  <thead>\n",
       "    <tr style=\"text-align: right;\">\n",
       "      <th></th>\n",
       "      <th>City</th>\n",
       "      <th>Orders</th>\n",
       "      <th>Quantity</th>\n",
       "      <th>Amount</th>\n",
       "      <th>AvgPricePerProduct</th>\n",
       "    </tr>\n",
       "  </thead>\n",
       "  <tbody>\n",
       "    <tr>\n",
       "      <th>0</th>\n",
       "      <td>Seattle</td>\n",
       "      <td>14732</td>\n",
       "      <td>16553</td>\n",
       "      <td>2747755</td>\n",
       "      <td>166.00</td>\n",
       "    </tr>\n",
       "    <tr>\n",
       "      <th>1</th>\n",
       "      <td>Dallas</td>\n",
       "      <td>14820</td>\n",
       "      <td>16730</td>\n",
       "      <td>2767975</td>\n",
       "      <td>165.45</td>\n",
       "    </tr>\n",
       "    <tr>\n",
       "      <th>2</th>\n",
       "      <td>Portland</td>\n",
       "      <td>12465</td>\n",
       "      <td>14053</td>\n",
       "      <td>2320490</td>\n",
       "      <td>165.12</td>\n",
       "    </tr>\n",
       "    <tr>\n",
       "      <th>3</th>\n",
       "      <td>Angeles</td>\n",
       "      <td>29605</td>\n",
       "      <td>33289</td>\n",
       "      <td>5452570</td>\n",
       "      <td>163.79</td>\n",
       "    </tr>\n",
       "    <tr>\n",
       "      <th>4</th>\n",
       "      <td>City</td>\n",
       "      <td>24876</td>\n",
       "      <td>27932</td>\n",
       "      <td>4664317</td>\n",
       "      <td>166.99</td>\n",
       "    </tr>\n",
       "  </tbody>\n",
       "</table>\n",
       "</div>"
      ],
      "text/plain": [
       "       City  Orders  Quantity   Amount  AvgPricePerProduct\n",
       "0   Seattle   14732     16553  2747755              166.00\n",
       "1    Dallas   14820     16730  2767975              165.45\n",
       "2  Portland   12465     14053  2320490              165.12\n",
       "3   Angeles   29605     33289  5452570              163.79\n",
       "4      City   24876     27932  4664317              166.99"
      ]
     },
     "execution_count": 21,
     "metadata": {},
     "output_type": "execute_result"
    }
   ],
   "source": [
    "temp = []\n",
    "for i in df['Amount']/df['Quantity']:\n",
    "    temp.append(round(i, 2))\n",
    "    \n",
    "df['AvgPricePerProduct'] = temp\n",
    "df.head()"
   ]
  },
  {
   "cell_type": "markdown",
   "id": "caa6eba2",
   "metadata": {},
   "source": [
    "#### 1.b) Average price per order in each city"
   ]
  },
  {
   "cell_type": "code",
   "execution_count": 22,
   "id": "f92204c6",
   "metadata": {},
   "outputs": [
    {
     "data": {
      "text/html": [
       "<div>\n",
       "<style scoped>\n",
       "    .dataframe tbody tr th:only-of-type {\n",
       "        vertical-align: middle;\n",
       "    }\n",
       "\n",
       "    .dataframe tbody tr th {\n",
       "        vertical-align: top;\n",
       "    }\n",
       "\n",
       "    .dataframe thead th {\n",
       "        text-align: right;\n",
       "    }\n",
       "</style>\n",
       "<table border=\"1\" class=\"dataframe\">\n",
       "  <thead>\n",
       "    <tr style=\"text-align: right;\">\n",
       "      <th></th>\n",
       "      <th>City</th>\n",
       "      <th>Orders</th>\n",
       "      <th>Quantity</th>\n",
       "      <th>Amount</th>\n",
       "      <th>AvgPricePerProduct</th>\n",
       "      <th>AvgPricePerOrder</th>\n",
       "    </tr>\n",
       "  </thead>\n",
       "  <tbody>\n",
       "    <tr>\n",
       "      <th>0</th>\n",
       "      <td>Seattle</td>\n",
       "      <td>14732</td>\n",
       "      <td>16553</td>\n",
       "      <td>2747755</td>\n",
       "      <td>166.00</td>\n",
       "      <td>186.52</td>\n",
       "    </tr>\n",
       "    <tr>\n",
       "      <th>1</th>\n",
       "      <td>Dallas</td>\n",
       "      <td>14820</td>\n",
       "      <td>16730</td>\n",
       "      <td>2767975</td>\n",
       "      <td>165.45</td>\n",
       "      <td>186.77</td>\n",
       "    </tr>\n",
       "    <tr>\n",
       "      <th>2</th>\n",
       "      <td>Portland</td>\n",
       "      <td>12465</td>\n",
       "      <td>14053</td>\n",
       "      <td>2320490</td>\n",
       "      <td>165.12</td>\n",
       "      <td>186.16</td>\n",
       "    </tr>\n",
       "    <tr>\n",
       "      <th>3</th>\n",
       "      <td>Angeles</td>\n",
       "      <td>29605</td>\n",
       "      <td>33289</td>\n",
       "      <td>5452570</td>\n",
       "      <td>163.79</td>\n",
       "      <td>184.18</td>\n",
       "    </tr>\n",
       "    <tr>\n",
       "      <th>4</th>\n",
       "      <td>City</td>\n",
       "      <td>24876</td>\n",
       "      <td>27932</td>\n",
       "      <td>4664317</td>\n",
       "      <td>166.99</td>\n",
       "      <td>187.50</td>\n",
       "    </tr>\n",
       "  </tbody>\n",
       "</table>\n",
       "</div>"
      ],
      "text/plain": [
       "       City  Orders  Quantity   Amount  AvgPricePerProduct  AvgPricePerOrder\n",
       "0   Seattle   14732     16553  2747755              166.00            186.52\n",
       "1    Dallas   14820     16730  2767975              165.45            186.77\n",
       "2  Portland   12465     14053  2320490              165.12            186.16\n",
       "3   Angeles   29605     33289  5452570              163.79            184.18\n",
       "4      City   24876     27932  4664317              166.99            187.50"
      ]
     },
     "execution_count": 22,
     "metadata": {},
     "output_type": "execute_result"
    }
   ],
   "source": [
    "temp = []\n",
    "for i in df['Amount']/df['Orders']:\n",
    "    temp.append(round(i, 2))\n",
    "    \n",
    "df['AvgPricePerOrder'] = temp\n",
    "df.head()"
   ]
  },
  {
   "cell_type": "markdown",
   "id": "29b32f35",
   "metadata": {},
   "source": [
    "#### 1.c) Analyze Number of orders"
   ]
  },
  {
   "cell_type": "code",
   "execution_count": 25,
   "id": "aec59f1d",
   "metadata": {},
   "outputs": [],
   "source": [
    "x = list(df['City'])\n",
    "y = list(df['Orders'])"
   ]
  },
  {
   "cell_type": "code",
   "execution_count": 28,
   "id": "a0e48ce7",
   "metadata": {},
   "outputs": [
    {
     "data": {
      "text/plain": [
       "<BarContainer object of 9 artists>"
      ]
     },
     "execution_count": 28,
     "metadata": {},
     "output_type": "execute_result"
    },
    {
     "data": {
      "image/png": "[encoded data removed]",
      "text/plain": [
       "<Figure size 640x480 with 1 Axes>"
      ]
     },
     "metadata": {},
     "output_type": "display_data"
    }
   ],
   "source": [
    "plt.bar(x, y)"
   ]
  },
  {
   "cell_type": "code",
   "execution_count": null,
   "id": "42157f84",
   "metadata": {},
   "outputs": [],
   "source": []
  }
 ],
 "metadata": {
  "kernelspec": {
   "display_name": "Python 3 (ipykernel)",
   "language": "python",
   "name": "python3"
  },
  "language_info": {
   "codemirror_mode": {
    "name": "ipython",
    "version": 3
   },
   "file_extension": ".py",
   "mimetype": "text/x-python",
   "name": "python",
   "nbconvert_exporter": "python",
   "pygments_lexer": "ipython3",
   "version": "3.10.7"
  }
 },
 "nbformat": 4,
 "nbformat_minor": 5
}
