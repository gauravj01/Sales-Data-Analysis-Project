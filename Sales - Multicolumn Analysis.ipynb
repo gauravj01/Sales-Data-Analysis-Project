{
 "cells": [
  {
   "cell_type": "code",
   "execution_count": 1,
   "id": "64600260",
   "metadata": {},
   "outputs": [
    {
     "data": {
      "text/html": [
       "<div>\n",
       "<style scoped>\n",
       "    .dataframe tbody tr th:only-of-type {\n",
       "        vertical-align: middle;\n",
       "    }\n",
       "\n",
       "    .dataframe tbody tr th {\n",
       "        vertical-align: top;\n",
       "    }\n",
       "\n",
       "    .dataframe thead th {\n",
       "        text-align: right;\n",
       "    }\n",
       "</style>\n",
       "<table border=\"1\" class=\"dataframe\">\n",
       "  <thead>\n",
       "    <tr style=\"text-align: right;\">\n",
       "      <th></th>\n",
       "      <th>order_id</th>\n",
       "      <th>product</th>\n",
       "      <th>quantity</th>\n",
       "      <th>price</th>\n",
       "      <th>total</th>\n",
       "      <th>full_date</th>\n",
       "      <th>hour</th>\n",
       "      <th>date_</th>\n",
       "      <th>month_</th>\n",
       "      <th>year</th>\n",
       "      <th>day</th>\n",
       "      <th>address</th>\n",
       "      <th>city</th>\n",
       "      <th>states</th>\n",
       "      <th>pincode</th>\n",
       "      <th>timezone</th>\n",
       "    </tr>\n",
       "  </thead>\n",
       "  <tbody>\n",
       "    <tr>\n",
       "      <th>0</th>\n",
       "      <td>236670</td>\n",
       "      <td>Wired Headphones</td>\n",
       "      <td>2</td>\n",
       "      <td>11.99</td>\n",
       "      <td>23.98</td>\n",
       "      <td>08/31/19</td>\n",
       "      <td>22</td>\n",
       "      <td>31</td>\n",
       "      <td>8</td>\n",
       "      <td>2019</td>\n",
       "      <td>Sat</td>\n",
       "      <td>359 Spruce St</td>\n",
       "      <td>Seattle</td>\n",
       "      <td>WA</td>\n",
       "      <td>98101</td>\n",
       "      <td>PM</td>\n",
       "    </tr>\n",
       "    <tr>\n",
       "      <th>1</th>\n",
       "      <td>236671</td>\n",
       "      <td>Bose SoundSport Headphones</td>\n",
       "      <td>1</td>\n",
       "      <td>99.99</td>\n",
       "      <td>99.99</td>\n",
       "      <td>08/15/19</td>\n",
       "      <td>15</td>\n",
       "      <td>15</td>\n",
       "      <td>8</td>\n",
       "      <td>2019</td>\n",
       "      <td>Thu</td>\n",
       "      <td>492 Ridge St</td>\n",
       "      <td>Dallas</td>\n",
       "      <td>TX</td>\n",
       "      <td>75001</td>\n",
       "      <td>PM</td>\n",
       "    </tr>\n",
       "    <tr>\n",
       "      <th>2</th>\n",
       "      <td>236672</td>\n",
       "      <td>iPhone</td>\n",
       "      <td>1</td>\n",
       "      <td>700.00</td>\n",
       "      <td>700.00</td>\n",
       "      <td>08/06/19</td>\n",
       "      <td>14</td>\n",
       "      <td>6</td>\n",
       "      <td>8</td>\n",
       "      <td>2019</td>\n",
       "      <td>Tue</td>\n",
       "      <td>149 7th St</td>\n",
       "      <td>Portland</td>\n",
       "      <td>OR</td>\n",
       "      <td>97035</td>\n",
       "      <td>PM</td>\n",
       "    </tr>\n",
       "    <tr>\n",
       "      <th>3</th>\n",
       "      <td>236673</td>\n",
       "      <td>AA Batteries (4-pack)</td>\n",
       "      <td>2</td>\n",
       "      <td>3.84</td>\n",
       "      <td>7.68</td>\n",
       "      <td>08/29/19</td>\n",
       "      <td>20</td>\n",
       "      <td>29</td>\n",
       "      <td>8</td>\n",
       "      <td>2019</td>\n",
       "      <td>Thu</td>\n",
       "      <td>631 2nd St</td>\n",
       "      <td>Angeles</td>\n",
       "      <td>CA</td>\n",
       "      <td>90001</td>\n",
       "      <td>PM</td>\n",
       "    </tr>\n",
       "    <tr>\n",
       "      <th>4</th>\n",
       "      <td>236674</td>\n",
       "      <td>AA Batteries (4-pack)</td>\n",
       "      <td>2</td>\n",
       "      <td>3.84</td>\n",
       "      <td>7.68</td>\n",
       "      <td>08/15/19</td>\n",
       "      <td>19</td>\n",
       "      <td>15</td>\n",
       "      <td>8</td>\n",
       "      <td>2019</td>\n",
       "      <td>Thu</td>\n",
       "      <td>736 14th St</td>\n",
       "      <td>City</td>\n",
       "      <td>NY</td>\n",
       "      <td>10001</td>\n",
       "      <td>PM</td>\n",
       "    </tr>\n",
       "  </tbody>\n",
       "</table>\n",
       "</div>"
      ],
      "text/plain": [
       "   order_id                     product  quantity   price   total full_date  \\\n",
       "0    236670            Wired Headphones         2   11.99   23.98  08/31/19   \n",
       "1    236671  Bose SoundSport Headphones         1   99.99   99.99  08/15/19   \n",
       "2    236672                      iPhone         1  700.00  700.00  08/06/19   \n",
       "3    236673       AA Batteries (4-pack)         2    3.84    7.68  08/29/19   \n",
       "4    236674       AA Batteries (4-pack)         2    3.84    7.68  08/15/19   \n",
       "\n",
       "   hour  date_  month_  year  day        address      city states  pincode  \\\n",
       "0    22     31       8  2019  Sat  359 Spruce St   Seattle     WA    98101   \n",
       "1    15     15       8  2019  Thu   492 Ridge St    Dallas     TX    75001   \n",
       "2    14      6       8  2019  Tue     149 7th St  Portland     OR    97035   \n",
       "3    20     29       8  2019  Thu     631 2nd St   Angeles     CA    90001   \n",
       "4    19     15       8  2019  Thu    736 14th St      City     NY    10001   \n",
       "\n",
       "  timezone  \n",
       "0       PM  \n",
       "1       PM  \n",
       "2       PM  \n",
       "3       PM  \n",
       "4       PM  "
      ]
     },
     "execution_count": 1,
     "metadata": {},
     "output_type": "execute_result"
    }
   ],
   "source": [
    "import pandas as pd\n",
    "import numpy as np\n",
    "import matplotlib.pyplot as plt\n",
    "\n",
    "df = pd.read_csv('data.csv')\n",
    "df.head()"
   ]
  },
  {
   "cell_type": "markdown",
   "id": "25d141f3",
   "metadata": {},
   "source": [
    "## 1. How many iPhone are sold so far"
   ]
  },
  {
   "cell_type": "code",
   "execution_count": 2,
   "id": "f441a0c2",
   "metadata": {},
   "outputs": [
    {
     "name": "stdout",
     "output_type": "stream",
     "text": [
      "6849 iPhones\n"
     ]
    }
   ],
   "source": [
    "print(df[df['product'] == 'iPhone']['quantity'].sum(), 'iPhones')"
   ]
  },
  {
   "cell_type": "markdown",
   "id": "7a9d7fa0",
   "metadata": {},
   "source": [
    "## 2. How much money is collected by selling iPhone"
   ]
  },
  {
   "cell_type": "code",
   "execution_count": 3,
   "id": "230c3d57",
   "metadata": {},
   "outputs": [
    {
     "name": "stdout",
     "output_type": "stream",
     "text": [
      "4794300 USD\n"
     ]
    }
   ],
   "source": [
    "print(int(df[df['product'] == 'iPhone']['total'].sum()), 'USD')"
   ]
  },
  {
   "cell_type": "markdown",
   "id": "5e4f8c68",
   "metadata": {},
   "source": [
    "## 3. Macbook Selling(Quantity) based on hour"
   ]
  },
  {
   "cell_type": "code",
   "execution_count": 4,
   "id": "c2006af5",
   "metadata": {},
   "outputs": [
    {
     "data": {
      "text/plain": [
       "<AxesSubplot: xlabel='hour'>"
      ]
     },
     "execution_count": 4,
     "metadata": {},
     "output_type": "execute_result"
    },
    {
     "data": {
      "image/png": "[encoded data removed]",
      "text/plain": [
       "<Figure size 640x480 with 1 Axes>"
      ]
     },
     "metadata": {},
     "output_type": "display_data"
    }
   ],
   "source": [
    "df_pr = df[df['product'] == 'Macbook Pro Laptop']\n",
    "df_pr.groupby('hour')['quantity'].sum().plot(kind='bar')"
   ]
  },
  {
   "cell_type": "markdown",
   "id": "7ef6e2ad",
   "metadata": {},
   "source": [
    "## 4. Total collection of iPhone sold in each state"
   ]
  },
  {
   "cell_type": "code",
   "execution_count": 5,
   "id": "8ba54308",
   "metadata": {},
   "outputs": [
    {
     "data": {
      "text/plain": [
       "<AxesSubplot: xlabel='states'>"
      ]
     },
     "execution_count": 5,
     "metadata": {},
     "output_type": "execute_result"
    },
    {
     "data": {
      "image/png": "[encoded data removed]",
      "text/plain": [
       "<Figure size 640x480 with 1 Axes>"
      ]
     },
     "metadata": {},
     "output_type": "display_data"
    }
   ],
   "source": [
    "df_pr = df[df['product'] == 'iPhone']\n",
    "df_pr.groupby('states')['total'].sum().sort_values().plot(kind = 'bar')"
   ]
  },
  {
   "cell_type": "markdown",
   "id": "12fb4976",
   "metadata": {},
   "source": [
    "## 5. Total Collection from each city of iPhone"
   ]
  },
  {
   "cell_type": "code",
   "execution_count": 6,
   "id": "872706c9",
   "metadata": {},
   "outputs": [
    {
     "data": {
      "text/plain": [
       "<AxesSubplot: xlabel='city'>"
      ]
     },
     "execution_count": 6,
     "metadata": {},
     "output_type": "execute_result"
    },
    {
     "data": {
      "image/png": "[encoded data removed]",
      "text/plain": [
       "<Figure size 640x480 with 1 Axes>"
      ]
     },
     "metadata": {},
     "output_type": "display_data"
    }
   ],
   "source": [
    "df_pr = df[df['product']=='iPhone']\n",
    "df_pr.groupby('city')['total'].sum().sort_values().plot(kind = 'bar')"
   ]
  },
  {
   "cell_type": "markdown",
   "id": "415dba7a",
   "metadata": {},
   "source": [
    "## 6. Total amount collected based on Timezone (AM, PM)"
   ]
  },
  {
   "cell_type": "code",
   "execution_count": 7,
   "id": "d2a57dea",
   "metadata": {},
   "outputs": [],
   "source": [
    "am = int(df[df['timezone'] == 'AM']['total'].sum())\n",
    "pm = int(df[df['timezone'] == 'PM']['total'].sum())"
   ]
  },
  {
   "cell_type": "code",
   "execution_count": 8,
   "id": "4ad63508",
   "metadata": {},
   "outputs": [
    {
     "data": {
      "image/png": "[encoded data removed]",
      "text/plain": [
       "<Figure size 640x480 with 1 Axes>"
      ]
     },
     "metadata": {},
     "output_type": "display_data"
    }
   ],
   "source": [
    "plt.pie([am,pm], labels=['AM', 'PM'], autopct='%1.2f%%')\n",
    "plt.title(\"Total amount distribution based on Time\")\n",
    "plt.show()"
   ]
  },
  {
   "cell_type": "markdown",
   "id": "1e19546e",
   "metadata": {},
   "source": [
    "## 7. iPhone selling(Quantity) based on timezone"
   ]
  },
  {
   "cell_type": "code",
   "execution_count": 9,
   "id": "c073eac2",
   "metadata": {},
   "outputs": [],
   "source": [
    "df_pr = df[df['product'] == 'iPhone']\n",
    "\n",
    "am = int(df_pr[df_pr['timezone'] == 'AM']['quantity'].sum())\n",
    "pm = int(df_pr[df_pr['timezone'] == 'PM']['quantity'].sum())"
   ]
  },
  {
   "cell_type": "code",
   "execution_count": 10,
   "id": "8ab6026e",
   "metadata": {},
   "outputs": [
    {
     "name": "stdout",
     "output_type": "stream",
     "text": [
      "Total quantity selled in AM:  2540\n",
      "Total quantity selled in PM:  4309\n"
     ]
    }
   ],
   "source": [
    "print(\"Total quantity selled in AM: \", am)\n",
    "print(\"Total quantity selled in PM: \", pm)"
   ]
  },
  {
   "cell_type": "markdown",
   "id": "5e392794",
   "metadata": {},
   "source": [
    "## 8. Which hour is most suitable for selling iPhone"
   ]
  },
  {
   "cell_type": "code",
   "execution_count": 11,
   "id": "dcb8afa8",
   "metadata": {},
   "outputs": [],
   "source": [
    "df_pr = df[df['product'] == 'iPhone']\n",
    "df_pr = df_pr.groupby('hour')['quantity'].sum().sort_values(ascending = False)"
   ]
  },
  {
   "cell_type": "code",
   "execution_count": 12,
   "id": "162e6f5e",
   "metadata": {},
   "outputs": [
    {
     "data": {
      "text/plain": [
       "hour\n",
       "12    488\n",
       "11    488\n",
       "20    472\n",
       "19    465\n",
       "18    459\n",
       "Name: quantity, dtype: int64"
      ]
     },
     "execution_count": 12,
     "metadata": {},
     "output_type": "execute_result"
    }
   ],
   "source": [
    "df_pr.head()"
   ]
  },
  {
   "cell_type": "markdown",
   "id": "a89d676e",
   "metadata": {},
   "source": [
    "## 9. Which product is least valuable for sales"
   ]
  },
  {
   "cell_type": "code",
   "execution_count": 13,
   "id": "6ea3a0e3",
   "metadata": {},
   "outputs": [
    {
     "data": {
      "text/plain": [
       "product\n",
       "AAA Batteries (4-pack)       92740.83\n",
       "AA Batteries (4-pack)       106118.40\n",
       "Wired Headphones            246478.43\n",
       "USB-C Charging Cable        286501.25\n",
       "Lightning Charging Cable    347094.15\n",
       "Name: total, dtype: float64"
      ]
     },
     "execution_count": 13,
     "metadata": {},
     "output_type": "execute_result"
    }
   ],
   "source": [
    "df.groupby('product')['total'].sum().sort_values(ascending=True).head()"
   ]
  }
 ],
 "metadata": {
  "kernelspec": {
   "display_name": "Python 3 (ipykernel)",
   "language": "python",
   "name": "python3"
  },
  "language_info": {
   "codemirror_mode": {
    "name": "ipython",
    "version": 3
   },
   "file_extension": ".py",
   "mimetype": "text/x-python",
   "name": "python",
   "nbconvert_exporter": "python",
   "pygments_lexer": "ipython3",
   "version": "3.10.7"
  }
 },
 "nbformat": 4,
 "nbformat_minor": 5
}
